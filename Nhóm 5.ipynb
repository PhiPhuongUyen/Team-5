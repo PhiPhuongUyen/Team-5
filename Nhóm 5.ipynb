{
 "cells": [
  {
   "cell_type": "code",
   "execution_count": 191,
   "id": "fc968358",
   "metadata": {},
   "outputs": [
    {
     "name": "stdout",
     "output_type": "stream",
     "text": [
      "Requirement already satisfied: pandasql in e:\\users\\dell\\anaconda3\\lib\\site-packages (0.7.3)\n",
      "Requirement already satisfied: numpy in e:\\users\\dell\\anaconda3\\lib\\site-packages (from pandasql) (1.24.3)\n",
      "Requirement already satisfied: pandas in e:\\users\\dell\\anaconda3\\lib\\site-packages (from pandasql) (1.5.3)\n",
      "Requirement already satisfied: sqlalchemy in e:\\users\\dell\\anaconda3\\lib\\site-packages (from pandasql) (1.4.49)\n",
      "Requirement already satisfied: python-dateutil>=2.8.1 in e:\\users\\dell\\anaconda3\\lib\\site-packages (from pandas->pandasql) (2.8.2)\n",
      "Requirement already satisfied: pytz>=2020.1 in e:\\users\\dell\\anaconda3\\lib\\site-packages (from pandas->pandasql) (2022.7)\n",
      "Requirement already satisfied: greenlet!=0.4.17 in e:\\users\\dell\\anaconda3\\lib\\site-packages (from sqlalchemy->pandasql) (2.0.1)\n",
      "Requirement already satisfied: six>=1.5 in e:\\users\\dell\\anaconda3\\lib\\site-packages (from python-dateutil>=2.8.1->pandas->pandasql) (1.16.0)\n",
      "Note: you may need to restart the kernel to use updated packages.\n"
     ]
    }
   ],
   "source": [
    "pip install pandasql"
   ]
  },
  {
   "cell_type": "code",
   "execution_count": 192,
   "id": "ef241581",
   "metadata": {},
   "outputs": [],
   "source": [
    "import plotly.express as px\n",
    "import pandas as pd\n",
    "import matplotlib.pyplot as plt\n",
    "from pandasql import sqldf\n",
    "import numpy as np"
   ]
  },
  {
   "cell_type": "code",
   "execution_count": 193,
   "id": "154c6fe9",
   "metadata": {},
   "outputs": [
    {
     "name": "stdout",
     "output_type": "stream",
     "text": [
      "            id        name      month  class  speaking  listening  reading  \\\n",
      "0            1     JohnDeo   November   Four       7.0        7.0      6.0   \n",
      "1            2     MaxRuin   November  Three       7.5        6.0      7.0   \n",
      "2            3      Arnold   November  Three       6.5        7.0      7.0   \n",
      "3            4   KrishStar    October   Four       6.0        7.0      6.5   \n",
      "4            5    JohnMike    October   Four       7.0        7.5      7.0   \n",
      "5            6    AlexJohn    October   Four       8.0        7.5      7.0   \n",
      "6            7   MyJohnRob    October  Fifth       7.0        8.0      7.0   \n",
      "7            8      Asruid    October   Five       8.5        8.0      7.5   \n",
      "8            9      TesQry    October    Six       6.0        6.5      6.0   \n",
      "9           10     BigJohn    October   Four       5.5        6.0      5.5   \n",
      "10          11      Ronald    October    Six       6.0        6.0      6.0   \n",
      "11          12       Recky   November    Six       7.0        6.5      7.0   \n",
      "12          13         Kty   November  Seven       8.0        8.0      7.5   \n",
      "13          14        Bigy   November  Seven       8.0        7.0      8.0   \n",
      "14          15     TadeRow   November   Four       6.0        7.0      6.0   \n",
      "15          16       Gimmy   November   Four       6.0        6.5      6.0   \n",
      "16          17       Tumyu   November    Six       5.5        6.0      6.0   \n",
      "17          18       Honny   December   Five       7.5        7.0      7.0   \n",
      "18  1September       Tinny   December   Nine       6.5        6.5      6.0   \n",
      "19          20      Jackly   December   Nine       6.5        7.0      6.0   \n",
      "20          21   BabbyJohn   December   Four       7.0        7.0      7.0   \n",
      "21          22      Reggid  September  Seven       5.5        6.0      6.0   \n",
      "22          23       Herod  September  Eight       7.5        7.0      8.0   \n",
      "23          24    TiddyNow  September  Seven       7.0        7.5      7.0   \n",
      "24          25     GiffTow  September  Seven       7.0        7.5      7.0   \n",
      "25          26      Crelea  September  Seven       6.0        6.5      6.0   \n",
      "26          27     BigNose  September  Three       6.5        6.0      6.0   \n",
      "27          28    RojjBase  September  Seven       6.0        6.0      6.0   \n",
      "28  2September  TessPlayed   December  Seven       7.0        6.5      7.0   \n",
      "29          30    ReppyRed   December    Six       6.0        7.0      6.5   \n",
      "30          31  MarryToeey   December   Four       6.0        6.5      5.5   \n",
      "31          32    BinnRott   December  Seven       8.0        7.5      7.0   \n",
      "32          33    KennRein   December    Six       6.0        5.5      5.5   \n",
      "33          34     GainToe   December  Seven       6.0        5.5      6.5   \n",
      "34          35   RowsNoump   December    Six       6.0        6.5      6.0   \n",
      "\n",
      "    writing  overall  gender  \n",
      "0       7.0      7.0  female  \n",
      "1       6.5      7.0    male  \n",
      "2       6.0      6.5    male  \n",
      "3       6.0      6.5  female  \n",
      "4       7.0      7.0  female  \n",
      "5       8.0      7.5    male  \n",
      "6       7.0      7.5    male  \n",
      "7       8.0      8.0    male  \n",
      "8       6.5      6.5    male  \n",
      "9       5.5      5.5  female  \n",
      "10      6.5      6.0  female  \n",
      "11      6.0      6.5  female  \n",
      "12      8.0      8.0  female  \n",
      "13      8.0      8.0  female  \n",
      "14      6.0      6.5    male  \n",
      "15      6.0      6.0    male  \n",
      "16      6.0      6.0    male  \n",
      "17      7.0      7.0    male  \n",
      "18      6.0      6.5    male  \n",
      "19      7.0      7.0  female  \n",
      "20      6.5      7.0  female  \n",
      "21      6.0      6.0  female  \n",
      "22      7.0      7.5    male  \n",
      "23      7.0      7.0    male  \n",
      "24      7.0      7.0    male  \n",
      "25      6.0      6.0    male  \n",
      "26      6.0      6.0  female  \n",
      "27      6.5      6.0  female  \n",
      "28      6.0      6.5    male  \n",
      "29      7.0      6.5  female  \n",
      "30      6.5      6.0    male  \n",
      "31      7.5      7.5  female  \n",
      "32      6.0      6.0  female  \n",
      "33      6.0      6.0    male  \n",
      "34      5.5      6.0  female  \n"
     ]
    }
   ],
   "source": [
    "url = \"https://raw.githubusercontent.com/Mao2003/Mao2003/main/Ielts%20result.csv\"\n",
    "df = pd.read_csv(url,encoding = 'unicode_escape')\n",
    "pysqldf = lambda q: sqldf(q, globals())\n",
    "print(df)"
   ]
  },
  {
   "cell_type": "code",
   "execution_count": 194,
   "id": "9d11a5ca",
   "metadata": {},
   "outputs": [
    {
     "name": "stdout",
     "output_type": "stream",
     "text": [
      "    class  speaking  listening  reading  writing  overall\n",
      "0    Four       7.0        7.0      6.0      7.0      7.0\n",
      "1   Three       7.5        6.0      7.0      6.5      7.0\n",
      "2   Three       6.5        7.0      7.0      6.0      6.5\n",
      "3    Four       6.0        7.0      6.5      6.0      6.5\n",
      "4    Four       7.0        7.5      7.0      7.0      7.0\n",
      "5    Four       8.0        7.5      7.0      8.0      7.5\n",
      "6   Fifth       7.0        8.0      7.0      7.0      7.5\n",
      "7    Five       8.5        8.0      7.5      8.0      8.0\n",
      "8     Six       6.0        6.5      6.0      6.5      6.5\n",
      "9    Four       5.5        6.0      5.5      5.5      5.5\n",
      "10    Six       6.0        6.0      6.0      6.5      6.0\n",
      "11    Six       7.0        6.5      7.0      6.0      6.5\n",
      "12  Seven       8.0        8.0      7.5      8.0      8.0\n",
      "13  Seven       8.0        7.0      8.0      8.0      8.0\n",
      "14   Four       6.0        7.0      6.0      6.0      6.5\n",
      "15   Four       6.0        6.5      6.0      6.0      6.0\n",
      "16    Six       5.5        6.0      6.0      6.0      6.0\n",
      "17   Five       7.5        7.0      7.0      7.0      7.0\n",
      "18   Nine       6.5        6.5      6.0      6.0      6.5\n",
      "19   Nine       6.5        7.0      6.0      7.0      7.0\n",
      "20   Four       7.0        7.0      7.0      6.5      7.0\n",
      "21  Seven       5.5        6.0      6.0      6.0      6.0\n",
      "22  Eight       7.5        7.0      8.0      7.0      7.5\n",
      "23  Seven       7.0        7.5      7.0      7.0      7.0\n",
      "24  Seven       7.0        7.5      7.0      7.0      7.0\n",
      "25  Seven       6.0        6.5      6.0      6.0      6.0\n",
      "26  Three       6.5        6.0      6.0      6.0      6.0\n",
      "27  Seven       6.0        6.0      6.0      6.5      6.0\n",
      "28  Seven       7.0        6.5      7.0      6.0      6.5\n",
      "29    Six       6.0        7.0      6.5      7.0      6.5\n",
      "30   Four       6.0        6.5      5.5      6.5      6.0\n",
      "31  Seven       8.0        7.5      7.0      7.5      7.5\n",
      "32    Six       6.0        5.5      5.5      6.0      6.0\n",
      "33  Seven       6.0        5.5      6.5      6.0      6.0\n",
      "34    Six       6.0        6.5      6.0      5.5      6.0\n"
     ]
    }
   ],
   "source": [
    "df2=pysqldf(\"SELECT class, speaking, listening, reading, writing, overall\\\n",
    "             FROM df\")\n",
    "print(df2)"
   ]
  },
  {
   "cell_type": "code",
   "execution_count": 195,
   "id": "098731c9",
   "metadata": {},
   "outputs": [
    {
     "name": "stdout",
     "output_type": "stream",
     "text": [
      "   class  gender_cnt\n",
      "0  Eight           1\n",
      "1  Fifth           1\n",
      "2   Five           2\n",
      "3   Four           9\n",
      "4   Nine           2\n",
      "5  Seven          10\n",
      "6    Six           7\n",
      "7  Three           3\n"
     ]
    }
   ],
   "source": [
    "df3=pysqldf(\"SELECT class, COUNT(gender) AS [gender_cnt]\\\n",
    "             FROM df\\\n",
    "             GROUP BY class\")\n",
    "print(df3)"
   ]
  },
  {
   "cell_type": "code",
   "execution_count": 196,
   "id": "60831d9c",
   "metadata": {},
   "outputs": [
    {
     "name": "stdout",
     "output_type": "stream",
     "text": [
      "   class  overall\n",
      "0  Eight      7.5\n",
      "1  Fifth      7.5\n",
      "2   Five      8.0\n",
      "3   Four      7.0\n",
      "4   Nine      6.5\n",
      "5  Seven      8.0\n",
      "6    Six      6.5\n",
      "7  Three      7.0\n"
     ]
    }
   ],
   "source": [
    "df3=pysqldf(\"SELECT class, overall\\\n",
    "             FROM df\\\n",
    "             GROUP BY class\")\n",
    "print(df3)"
   ]
  },
  {
   "cell_type": "code",
   "execution_count": 198,
   "id": "2ff827e5",
   "metadata": {},
   "outputs": [
    {
     "name": "stdout",
     "output_type": "stream",
     "text": [
      "   class  male_overall gender\n",
      "0  Three          6.75   male\n",
      "1    Six          6.25   male\n",
      "2  Seven          6.50   male\n",
      "3   Nine          6.50   male\n",
      "4   Four          6.50   male\n",
      "5   Five          7.50   male\n",
      "6  Fifth          7.50   male\n",
      "7  Eight          7.50   male\n"
     ]
    }
   ],
   "source": [
    "dfly=pysqldf(\"SELECT class, AVG(overall) AS [male_overall], gender\\\n",
    "             FROM df\\\n",
    "             WHERE gender='male'\\\n",
    "             GROUP BY class\\\n",
    "             ORDER BY class DESC\")\n",
    "print(dfly)"
   ]
  },
  {
   "cell_type": "code",
   "execution_count": 199,
   "id": "ae82fde7",
   "metadata": {},
   "outputs": [
    {
     "name": "stdout",
     "output_type": "stream",
     "text": [
      "   class  female_overall  gender\n",
      "0  Three             6.0  female\n",
      "1    Six             6.2  female\n",
      "2  Seven             7.1  female\n",
      "3   Nine             7.0  female\n",
      "4   Four             6.6  female\n"
     ]
    }
   ],
   "source": [
    "dfly2=pysqldf(\"SELECT class, AVG(overall) AS [female_overall], gender\\\n",
    "             FROM df\\\n",
    "             WHERE gender='female'\\\n",
    "             GROUP BY class\\\n",
    "             ORDER  BY class DESC\")\n",
    "print(dfly2)"
   ]
  },
  {
   "cell_type": "code",
   "execution_count": 200,
   "id": "4cb6ba45",
   "metadata": {},
   "outputs": [
    {
     "name": "stdout",
     "output_type": "stream",
     "text": [
      "   class  male_overall  female_overall\n",
      "0  Three          6.75             6.0\n",
      "1    Six          6.25             6.2\n",
      "2  Seven          6.50             7.1\n",
      "3   Nine          6.50             7.0\n",
      "4   Four          6.50             6.6\n",
      "5   Five          7.50             NaN\n",
      "6  Fifth          7.50             NaN\n",
      "7  Eight          7.50             NaN\n"
     ]
    }
   ],
   "source": [
    "dfbar=pd.concat([dfly[['class','male_overall']], dfly2[['female_overall']]], axis=1)\n",
    "print(dfbar)"
   ]
  },
  {
   "cell_type": "code",
   "execution_count": 201,
   "id": "3b74f62a",
   "metadata": {},
   "outputs": [
    {
     "name": "stdout",
     "output_type": "stream",
     "text": [
      "       month  class     w_avg     r_avg     l_avg     s_avg\n",
      "0   December   Five  6.454545  6.363636  6.590909  6.590909\n",
      "1   November   Four  6.611111  6.722222  6.777778  6.833333\n",
      "2    October   Four  6.812500  6.562500  7.062500  6.750000\n",
      "3  September  Seven  6.500000  6.571429  6.642857  6.500000\n"
     ]
    }
   ],
   "source": [
    "dfplt=pysqldf(\"SELECT month, class, AVG(writing) AS[w_avg], AVG(reading) AS[r_avg], AVG(listening) AS[l_avg], AVG(speaking) AS[s_avg]\\\n",
    "             FROM df\\\n",
    "             GROUP BY month\\\n",
    "             ORDER BY month ASC\")\n",
    "print(dfplt)"
   ]
  },
  {
   "cell_type": "code",
   "execution_count": 202,
   "id": "5888b9e6",
   "metadata": {},
   "outputs": [
    {
     "name": "stdout",
     "output_type": "stream",
     "text": [
      "   overall  count_mem\n",
      "0      5.5          1\n",
      "1      6.0         11\n",
      "2      6.5          8\n",
      "3      7.0          8\n",
      "4      7.5          4\n",
      "5      8.0          3\n"
     ]
    }
   ],
   "source": [
    "dfpie=pysqldf(\"SELECT overall, COUNT(name) AS [count_mem]\\\n",
    "             FROM df\\\n",
    "             GROUP BY overall\")\n",
    "print(dfpie)"
   ]
  },
  {
   "cell_type": "code",
   "execution_count": 203,
   "id": "1fe16f2e",
   "metadata": {},
   "outputs": [
    {
     "data": {
      "image/png": "[encoded data removed]",
      "text/plain": [
       "<Figure size 640x480 with 1 Axes>"
      ]
     },
     "metadata": {},
     "output_type": "display_data"
    }
   ],
   "source": [
    "import numpy as np\n",
    "import matplotlib.pyplot as plt\n",
    "\n",
    "categories = dfbar['class']\n",
    "values1 = dfbar['male_overall']\n",
    "values2 = dfbar['female_overall']\n",
    "\n",
    "bar_width = 0.20\n",
    "x = np.arange(len(categories))\n",
    "\n",
    "plt.bar(x - bar_width/2, values1, bar_width, label='MALE')\n",
    "plt.bar(x + bar_width/2, values2, bar_width, label='FEMALE')\n",
    "\n",
    "plt.xlabel('CLASS')\n",
    "plt.ylabel('SCORES')\n",
    "plt.title('AVERAGE OVERALL IELTS SCORE IN 2017')\n",
    "\n",
    "plt.xticks(x, categories)\n",
    "plt.legend()\n",
    "plt.show()"
   ]
  },
  {
   "cell_type": "code",
   "execution_count": 204,
   "id": "fccc7486",
   "metadata": {},
   "outputs": [
    {
     "data": {
      "image/png": "[encoded data removed]",
      "text/plain": [
       "<Figure size 640x480 with 1 Axes>"
      ]
     },
     "metadata": {},
     "output_type": "display_data"
    }
   ],
   "source": [
    "dfscatters=df[['class','overall']]\n",
    "plt.scatter(dfscatters['class'], dfscatters['overall'], color='orange', s=30, marker='*')\n",
    "\n",
    "plt.ylabel(\"Overall\")\n",
    "plt.xlabel(\"Class\")\n",
    "plt.title(\"Correlation between name and overall ielts mark\")\n",
    "plt.show()"
   ]
  },
  {
   "cell_type": "code",
   "execution_count": 205,
   "id": "6090709f",
   "metadata": {},
   "outputs": [
    {
     "data": {
      "application/vnd.plotly.v1+json": {
       "config": {
        "plotlyServerURL": "https://plot.ly"
       },
       "data": [
        {
         "domain": {
          "x": [
           0,
           1
          ],
          "y": [
           0,
           1
          ]
         },
         "hovertemplate": "label=%{label}<br>value=%{value}<extra></extra>",
         "labels": [
          5.5,
          6,
          6.5,
          7,
          7.5,
          8
         ],
         "legendgroup": "",
         "name": "",
         "showlegend": true,
         "type": "pie",
         "values": [
          1,
          11,
          8,
          8,
          4,
          3
         ]
        }
       ],
       "layout": {
        "legend": {
         "tracegroupgap": 0
        },
        "margin": {
         "t": 60
        },
        "template": {
         "data": {
          "bar": [
           {
            "error_x": {
             "color": "#2a3f5f"
            },
            "error_y": {
             "color": "#2a3f5f"
            },
            "marker": {
             "line": {
              "color": "#E5ECF6",
              "width": 0.5
             },
             "pattern": {
              "fillmode": "overlay",
              "size": 10,
              "solidity": 0.2
             }
            },
            "type": "bar"
           }
          ],
          "barpolar": [
           {
            "marker": {
             "line": {
              "color": "#E5ECF6",
              "width": 0.5
             },
             "pattern": {
              "fillmode": "overlay",
              "size": 10,
              "solidity": 0.2
             }
            },
            "type": "barpolar"
           }
          ],
          "carpet": [
           {
            "aaxis": {
             "endlinecolor": "#2a3f5f",
             "gridcolor": "white",
             "linecolor": "white",
             "minorgridcolor": "white",
             "startlinecolor": "#2a3f5f"
            },
            "baxis": {
             "endlinecolor": "#2a3f5f",
             "gridcolor": "white",
             "linecolor": "white",
             "minorgridcolor": "white",
             "startlinecolor": "#2a3f5f"
            },
            "type": "carpet"
           }
          ],
          "choropleth": [
           {
            "colorbar": {
             "outlinewidth": 0,
             "ticks": ""
            },
            "type": "choropleth"
           }
          ],
          "contour": [
           {
            "colorbar": {
             "outlinewidth": 0,
             "ticks": ""
            },
            "colorscale": [
             [
              0,
              "#0d0887"
             ],
             [
              0.1111111111111111,
              "#46039f"
             ],
             [
              0.2222222222222222,
              "#7201a8"
             ],
             [
              0.3333333333333333,
              "#9c179e"
             ],
             [
              0.4444444444444444,
              "#bd3786"
             ],
             [
              0.5555555555555556,
              "#d8576b"
             ],
             [
              0.6666666666666666,
              "#ed7953"
             ],
             [
              0.7777777777777778,
              "#fb9f3a"
             ],
             [
              0.8888888888888888,
              "#fdca26"
             ],
             [
              1,
              "#f0f921"
             ]
            ],
            "type": "contour"
           }
          ],
          "contourcarpet": [
           {
            "colorbar": {
             "outlinewidth": 0,
             "ticks": ""
            },
            "type": "contourcarpet"
           }
          ],
          "heatmap": [
           {
            "colorbar": {
             "outlinewidth": 0,
             "ticks": ""
            },
            "colorscale": [
             [
              0,
              "#0d0887"
             ],
             [
              0.1111111111111111,
              "#46039f"
             ],
             [
              0.2222222222222222,
              "#7201a8"
             ],
             [
              0.3333333333333333,
              "#9c179e"
             ],
             [
              0.4444444444444444,
              "#bd3786"
             ],
             [
              0.5555555555555556,
              "#d8576b"
             ],
             [
              0.6666666666666666,
              "#ed7953"
             ],
             [
              0.7777777777777778,
              "#fb9f3a"
             ],
             [
              0.8888888888888888,
              "#fdca26"
             ],
             [
              1,
              "#f0f921"
             ]
            ],
            "type": "heatmap"
           }
          ],
          "heatmapgl": [
           {
            "colorbar": {
             "outlinewidth": 0,
             "ticks": ""
            },
            "colorscale": [
             [
              0,
              "#0d0887"
             ],
             [
              0.1111111111111111,
              "#46039f"
             ],
             [
              0.2222222222222222,
              "#7201a8"
             ],
             [
              0.3333333333333333,
              "#9c179e"
             ],
             [
              0.4444444444444444,
              "#bd3786"
             ],
             [
              0.5555555555555556,
              "#d8576b"
             ],
             [
              0.6666666666666666,
              "#ed7953"
             ],
             [
              0.7777777777777778,
              "#fb9f3a"
             ],
             [
              0.8888888888888888,
              "#fdca26"
             ],
             [
              1,
              "#f0f921"
             ]
            ],
            "type": "heatmapgl"
           }
          ],
          "histogram": [
           {
            "marker": {
             "pattern": {
              "fillmode": "overlay",
              "size": 10,
              "solidity": 0.2
             }
            },
            "type": "histogram"
           }
          ],
          "histogram2d": [
           {
            "colorbar": {
             "outlinewidth": 0,
             "ticks": ""
            },
            "colorscale": [
             [
              0,
              "#0d0887"
             ],
             [
              0.1111111111111111,
              "#46039f"
             ],
             [
              0.2222222222222222,
              "#7201a8"
             ],
             [
              0.3333333333333333,
              "#9c179e"
             ],
             [
              0.4444444444444444,
              "#bd3786"
             ],
             [
              0.5555555555555556,
              "#d8576b"
             ],
             [
              0.6666666666666666,
              "#ed7953"
             ],
             [
              0.7777777777777778,
              "#fb9f3a"
             ],
             [
              0.8888888888888888,
              "#fdca26"
             ],
             [
              1,
              "#f0f921"
             ]
            ],
            "type": "histogram2d"
           }
          ],
          "histogram2dcontour": [
           {
            "colorbar": {
             "outlinewidth": 0,
             "ticks": ""
            },
            "colorscale": [
             [
              0,
              "#0d0887"
             ],
             [
              0.1111111111111111,
              "#46039f"
             ],
             [
              0.2222222222222222,
              "#7201a8"
             ],
             [
              0.3333333333333333,
              "#9c179e"
             ],
             [
              0.4444444444444444,
              "#bd3786"
             ],
             [
              0.5555555555555556,
              "#d8576b"
             ],
             [
              0.6666666666666666,
              "#ed7953"
             ],
             [
              0.7777777777777778,
              "#fb9f3a"
             ],
             [
              0.8888888888888888,
              "#fdca26"
             ],
             [
              1,
              "#f0f921"
             ]
            ],
            "type": "histogram2dcontour"
           }
          ],
          "mesh3d": [
           {
            "colorbar": {
             "outlinewidth": 0,
             "ticks": ""
            },
            "type": "mesh3d"
           }
          ],
          "parcoords": [
           {
            "line": {
             "colorbar": {
              "outlinewidth": 0,
              "ticks": ""
             }
            },
            "type": "parcoords"
           }
          ],
          "pie": [
           {
            "automargin": true,
            "type": "pie"
           }
          ],
          "scatter": [
           {
            "fillpattern": {
             "fillmode": "overlay",
             "size": 10,
             "solidity": 0.2
            },
            "type": "scatter"
           }
          ],
          "scatter3d": [
           {
            "line": {
             "colorbar": {
              "outlinewidth": 0,
              "ticks": ""
             }
            },
            "marker": {
             "colorbar": {
              "outlinewidth": 0,
              "ticks": ""
             }
            },
            "type": "scatter3d"
           }
          ],
          "scattercarpet": [
           {
            "marker": {
             "colorbar": {
              "outlinewidth": 0,
              "ticks": ""
             }
            },
            "type": "scattercarpet"
           }
          ],
          "scattergeo": [
           {
            "marker": {
             "colorbar": {
              "outlinewidth": 0,
              "ticks": ""
             }
            },
            "type": "scattergeo"
           }
          ],
          "scattergl": [
           {
            "marker": {
             "colorbar": {
              "outlinewidth": 0,
              "ticks": ""
             }
            },
            "type": "scattergl"
           }
          ],
          "scattermapbox": [
           {
            "marker": {
             "colorbar": {
              "outlinewidth": 0,
              "ticks": ""
             }
            },
            "type": "scattermapbox"
           }
          ],
          "scatterpolar": [
           {
            "marker": {
             "colorbar": {
              "outlinewidth": 0,
              "ticks": ""
             }
            },
            "type": "scatterpolar"
           }
          ],
          "scatterpolargl": [
           {
            "marker": {
             "colorbar": {
              "outlinewidth": 0,
              "ticks": ""
             }
            },
            "type": "scatterpolargl"
           }
          ],
          "scatterternary": [
           {
            "marker": {
             "colorbar": {
              "outlinewidth": 0,
              "ticks": ""
             }
            },
            "type": "scatterternary"
           }
          ],
          "surface": [
           {
            "colorbar": {
             "outlinewidth": 0,
             "ticks": ""
            },
            "colorscale": [
             [
              0,
              "#0d0887"
             ],
             [
              0.1111111111111111,
              "#46039f"
             ],
             [
              0.2222222222222222,
              "#7201a8"
             ],
             [
              0.3333333333333333,
              "#9c179e"
             ],
             [
              0.4444444444444444,
              "#bd3786"
             ],
             [
              0.5555555555555556,
              "#d8576b"
             ],
             [
              0.6666666666666666,
              "#ed7953"
             ],
             [
              0.7777777777777778,
              "#fb9f3a"
             ],
             [
              0.8888888888888888,
              "#fdca26"
             ],
             [
              1,
              "#f0f921"
             ]
            ],
            "type": "surface"
           }
          ],
          "table": [
           {
            "cells": {
             "fill": {
              "color": "#EBF0F8"
             },
             "line": {
              "color": "white"
             }
            },
            "header": {
             "fill": {
              "color": "#C8D4E3"
             },
             "line": {
              "color": "white"
             }
            },
            "type": "table"
           }
          ]
         },
         "layout": {
          "annotationdefaults": {
           "arrowcolor": "#2a3f5f",
           "arrowhead": 0,
           "arrowwidth": 1
          },
          "autotypenumbers": "strict",
          "coloraxis": {
           "colorbar": {
            "outlinewidth": 0,
            "ticks": ""
           }
          },
          "colorscale": {
           "diverging": [
            [
             0,
             "#8e0152"
            ],
            [
             0.1,
             "#c51b7d"
            ],
            [
             0.2,
             "#de77ae"
            ],
            [
             0.3,
             "#f1b6da"
            ],
            [
             0.4,
             "#fde0ef"
            ],
            [
             0.5,
             "#f7f7f7"
            ],
            [
             0.6,
             "#e6f5d0"
            ],
            [
             0.7,
             "#b8e186"
            ],
            [
             0.8,
             "#7fbc41"
            ],
            [
             0.9,
             "#4d9221"
            ],
            [
             1,
             "#276419"
            ]
           ],
           "sequential": [
            [
             0,
             "#0d0887"
            ],
            [
             0.1111111111111111,
             "#46039f"
            ],
            [
             0.2222222222222222,
             "#7201a8"
            ],
            [
             0.3333333333333333,
             "#9c179e"
            ],
            [
             0.4444444444444444,
             "#bd3786"
            ],
            [
             0.5555555555555556,
             "#d8576b"
            ],
            [
             0.6666666666666666,
             "#ed7953"
            ],
            [
             0.7777777777777778,
             "#fb9f3a"
            ],
            [
             0.8888888888888888,
             "#fdca26"
            ],
            [
             1,
             "#f0f921"
            ]
           ],
           "sequentialminus": [
            [
             0,
             "#0d0887"
            ],
            [
             0.1111111111111111,
             "#46039f"
            ],
            [
             0.2222222222222222,
             "#7201a8"
            ],
            [
             0.3333333333333333,
             "#9c179e"
            ],
            [
             0.4444444444444444,
             "#bd3786"
            ],
            [
             0.5555555555555556,
             "#d8576b"
            ],
            [
             0.6666666666666666,
             "#ed7953"
            ],
            [
             0.7777777777777778,
             "#fb9f3a"
            ],
            [
             0.8888888888888888,
             "#fdca26"
            ],
            [
             1,
             "#f0f921"
            ]
           ]
          },
          "colorway": [
           "#636efa",
           "#EF553B",
           "#00cc96",
           "#ab63fa",
           "#FFA15A",
           "#19d3f3",
           "#FF6692",
           "#B6E880",
           "#FF97FF",
           "#FECB52"
          ],
          "font": {
           "color": "#2a3f5f"
          },
          "geo": {
           "bgcolor": "white",
           "lakecolor": "white",
           "landcolor": "#E5ECF6",
           "showlakes": true,
           "showland": true,
           "subunitcolor": "white"
          },
          "hoverlabel": {
           "align": "left"
          },
          "hovermode": "closest",
          "mapbox": {
           "style": "light"
          },
          "paper_bgcolor": "white",
          "plot_bgcolor": "#E5ECF6",
          "polar": {
           "angularaxis": {
            "gridcolor": "white",
            "linecolor": "white",
            "ticks": ""
           },
           "bgcolor": "#E5ECF6",
           "radialaxis": {
            "gridcolor": "white",
            "linecolor": "white",
            "ticks": ""
           }
          },
          "scene": {
           "xaxis": {
            "backgroundcolor": "#E5ECF6",
            "gridcolor": "white",
            "gridwidth": 2,
            "linecolor": "white",
            "showbackground": true,
            "ticks": "",
            "zerolinecolor": "white"
           },
           "yaxis": {
            "backgroundcolor": "#E5ECF6",
            "gridcolor": "white",
            "gridwidth": 2,
            "linecolor": "white",
            "showbackground": true,
            "ticks": "",
            "zerolinecolor": "white"
           },
           "zaxis": {
            "backgroundcolor": "#E5ECF6",
            "gridcolor": "white",
            "gridwidth": 2,
            "linecolor": "white",
            "showbackground": true,
            "ticks": "",
            "zerolinecolor": "white"
           }
          },
          "shapedefaults": {
           "line": {
            "color": "#2a3f5f"
           }
          },
          "ternary": {
           "aaxis": {
            "gridcolor": "white",
            "linecolor": "white",
            "ticks": ""
           },
           "baxis": {
            "gridcolor": "white",
            "linecolor": "white",
            "ticks": ""
           },
           "bgcolor": "#E5ECF6",
           "caxis": {
            "gridcolor": "white",
            "linecolor": "white",
            "ticks": ""
           }
          },
          "title": {
           "x": 0.05
          },
          "xaxis": {
           "automargin": true,
           "gridcolor": "white",
           "linecolor": "white",
           "ticks": "",
           "title": {
            "standoff": 15
           },
           "zerolinecolor": "white",
           "zerolinewidth": 2
          },
          "yaxis": {
           "automargin": true,
           "gridcolor": "white",
           "linecolor": "white",
           "ticks": "",
           "title": {
            "standoff": 15
           },
           "zerolinecolor": "white",
           "zerolinewidth": 2
          }
         }
        }
       }
      },
      "text/html": [
       "<div>                            <div id=\"4965386b-cb49-4cfb-be17-1923a2f0dd61\" class=\"plotly-graph-div\" style=\"height:525px; width:100%;\"></div>            <script type=\"text/javascript\">                require([\"plotly\"], function(Plotly) {                    window.PLOTLYENV=window.PLOTLYENV || {};                                    if (document.getElementById(\"4965386b-cb49-4cfb-be17-1923a2f0dd61\")) {                    Plotly.newPlot(                        \"4965386b-cb49-4cfb-be17-1923a2f0dd61\",                        [{\"domain\":{\"x\":[0.0,1.0],\"y\":[0.0,1.0]},\"hovertemplate\":\"label=%{label}<br>value=%{value}<extra></extra>\",\"labels\":[5.5,6.0,6.5,7.0,7.5,8.0],\"legendgroup\":\"\",\"name\":\"\",\"showlegend\":true,\"values\":[1,11,8,8,4,3],\"type\":\"pie\"}],                        {\"template\":{\"data\":{\"histogram2dcontour\":[{\"type\":\"histogram2dcontour\",\"colorbar\":{\"outlinewidth\":0,\"ticks\":\"\"},\"colorscale\":[[0.0,\"#0d0887\"],[0.1111111111111111,\"#46039f\"],[0.2222222222222222,\"#7201a8\"],[0.3333333333333333,\"#9c179e\"],[0.4444444444444444,\"#bd3786\"],[0.5555555555555556,\"#d8576b\"],[0.6666666666666666,\"#ed7953\"],[0.7777777777777778,\"#fb9f3a\"],[0.8888888888888888,\"#fdca26\"],[1.0,\"#f0f921\"]]}],\"choropleth\":[{\"type\":\"choropleth\",\"colorbar\":{\"outlinewidth\":0,\"ticks\":\"\"}}],\"histogram2d\":[{\"type\":\"histogram2d\",\"colorbar\":{\"outlinewidth\":0,\"ticks\":\"\"},\"colorscale\":[[0.0,\"#0d0887\"],[0.1111111111111111,\"#46039f\"],[0.2222222222222222,\"#7201a8\"],[0.3333333333333333,\"#9c179e\"],[0.4444444444444444,\"#bd3786\"],[0.5555555555555556,\"#d8576b\"],[0.6666666666666666,\"#ed7953\"],[0.7777777777777778,\"#fb9f3a\"],[0.8888888888888888,\"#fdca26\"],[1.0,\"#f0f921\"]]}],\"heatmap\":[{\"type\":\"heatmap\",\"colorbar\":{\"outlinewidth\":0,\"ticks\":\"\"},\"colorscale\":[[0.0,\"#0d0887\"],[0.1111111111111111,\"#46039f\"],[0.2222222222222222,\"#7201a8\"],[0.3333333333333333,\"#9c179e\"],[0.4444444444444444,\"#bd3786\"],[0.5555555555555556,\"#d8576b\"],[0.6666666666666666,\"#ed7953\"],[0.7777777777777778,\"#fb9f3a\"],[0.8888888888888888,\"#fdca26\"],[1.0,\"#f0f921\"]]}],\"heatmapgl\":[{\"type\":\"heatmapgl\",\"colorbar\":{\"outlinewidth\":0,\"ticks\":\"\"},\"colorscale\":[[0.0,\"#0d0887\"],[0.1111111111111111,\"#46039f\"],[0.2222222222222222,\"#7201a8\"],[0.3333333333333333,\"#9c179e\"],[0.4444444444444444,\"#bd3786\"],[0.5555555555555556,\"#d8576b\"],[0.6666666666666666,\"#ed7953\"],[0.7777777777777778,\"#fb9f3a\"],[0.8888888888888888,\"#fdca26\"],[1.0,\"#f0f921\"]]}],\"contourcarpet\":[{\"type\":\"contourcarpet\",\"colorbar\":{\"outlinewidth\":0,\"ticks\":\"\"}}],\"contour\":[{\"type\":\"contour\",\"colorbar\":{\"outlinewidth\":0,\"ticks\":\"\"},\"colorscale\":[[0.0,\"#0d0887\"],[0.1111111111111111,\"#46039f\"],[0.2222222222222222,\"#7201a8\"],[0.3333333333333333,\"#9c179e\"],[0.4444444444444444,\"#bd3786\"],[0.5555555555555556,\"#d8576b\"],[0.6666666666666666,\"#ed7953\"],[0.7777777777777778,\"#fb9f3a\"],[0.8888888888888888,\"#fdca26\"],[1.0,\"#f0f921\"]]}],\"surface\":[{\"type\":\"surface\",\"colorbar\":{\"outlinewidth\":0,\"ticks\":\"\"},\"colorscale\":[[0.0,\"#0d0887\"],[0.1111111111111111,\"#46039f\"],[0.2222222222222222,\"#7201a8\"],[0.3333333333333333,\"#9c179e\"],[0.4444444444444444,\"#bd3786\"],[0.5555555555555556,\"#d8576b\"],[0.6666666666666666,\"#ed7953\"],[0.7777777777777778,\"#fb9f3a\"],[0.8888888888888888,\"#fdca26\"],[1.0,\"#f0f921\"]]}],\"mesh3d\":[{\"type\":\"mesh3d\",\"colorbar\":{\"outlinewidth\":0,\"ticks\":\"\"}}],\"scatter\":[{\"fillpattern\":{\"fillmode\":\"overlay\",\"size\":10,\"solidity\":0.2},\"type\":\"scatter\"}],\"parcoords\":[{\"type\":\"parcoords\",\"line\":{\"colorbar\":{\"outlinewidth\":0,\"ticks\":\"\"}}}],\"scatterpolargl\":[{\"type\":\"scatterpolargl\",\"marker\":{\"colorbar\":{\"outlinewidth\":0,\"ticks\":\"\"}}}],\"bar\":[{\"error_x\":{\"color\":\"#2a3f5f\"},\"error_y\":{\"color\":\"#2a3f5f\"},\"marker\":{\"line\":{\"color\":\"#E5ECF6\",\"width\":0.5},\"pattern\":{\"fillmode\":\"overlay\",\"size\":10,\"solidity\":0.2}},\"type\":\"bar\"}],\"scattergeo\":[{\"type\":\"scattergeo\",\"marker\":{\"colorbar\":{\"outlinewidth\":0,\"ticks\":\"\"}}}],\"scatterpolar\":[{\"type\":\"scatterpolar\",\"marker\":{\"colorbar\":{\"outlinewidth\":0,\"ticks\":\"\"}}}],\"histogram\":[{\"marker\":{\"pattern\":{\"fillmode\":\"overlay\",\"size\":10,\"solidity\":0.2}},\"type\":\"histogram\"}],\"scattergl\":[{\"type\":\"scattergl\",\"marker\":{\"colorbar\":{\"outlinewidth\":0,\"ticks\":\"\"}}}],\"scatter3d\":[{\"type\":\"scatter3d\",\"line\":{\"colorbar\":{\"outlinewidth\":0,\"ticks\":\"\"}},\"marker\":{\"colorbar\":{\"outlinewidth\":0,\"ticks\":\"\"}}}],\"scattermapbox\":[{\"type\":\"scattermapbox\",\"marker\":{\"colorbar\":{\"outlinewidth\":0,\"ticks\":\"\"}}}],\"scatterternary\":[{\"type\":\"scatterternary\",\"marker\":{\"colorbar\":{\"outlinewidth\":0,\"ticks\":\"\"}}}],\"scattercarpet\":[{\"type\":\"scattercarpet\",\"marker\":{\"colorbar\":{\"outlinewidth\":0,\"ticks\":\"\"}}}],\"carpet\":[{\"aaxis\":{\"endlinecolor\":\"#2a3f5f\",\"gridcolor\":\"white\",\"linecolor\":\"white\",\"minorgridcolor\":\"white\",\"startlinecolor\":\"#2a3f5f\"},\"baxis\":{\"endlinecolor\":\"#2a3f5f\",\"gridcolor\":\"white\",\"linecolor\":\"white\",\"minorgridcolor\":\"white\",\"startlinecolor\":\"#2a3f5f\"},\"type\":\"carpet\"}],\"table\":[{\"cells\":{\"fill\":{\"color\":\"#EBF0F8\"},\"line\":{\"color\":\"white\"}},\"header\":{\"fill\":{\"color\":\"#C8D4E3\"},\"line\":{\"color\":\"white\"}},\"type\":\"table\"}],\"barpolar\":[{\"marker\":{\"line\":{\"color\":\"#E5ECF6\",\"width\":0.5},\"pattern\":{\"fillmode\":\"overlay\",\"size\":10,\"solidity\":0.2}},\"type\":\"barpolar\"}],\"pie\":[{\"automargin\":true,\"type\":\"pie\"}]},\"layout\":{\"autotypenumbers\":\"strict\",\"colorway\":[\"#636efa\",\"#EF553B\",\"#00cc96\",\"#ab63fa\",\"#FFA15A\",\"#19d3f3\",\"#FF6692\",\"#B6E880\",\"#FF97FF\",\"#FECB52\"],\"font\":{\"color\":\"#2a3f5f\"},\"hovermode\":\"closest\",\"hoverlabel\":{\"align\":\"left\"},\"paper_bgcolor\":\"white\",\"plot_bgcolor\":\"#E5ECF6\",\"polar\":{\"bgcolor\":\"#E5ECF6\",\"angularaxis\":{\"gridcolor\":\"white\",\"linecolor\":\"white\",\"ticks\":\"\"},\"radialaxis\":{\"gridcolor\":\"white\",\"linecolor\":\"white\",\"ticks\":\"\"}},\"ternary\":{\"bgcolor\":\"#E5ECF6\",\"aaxis\":{\"gridcolor\":\"white\",\"linecolor\":\"white\",\"ticks\":\"\"},\"baxis\":{\"gridcolor\":\"white\",\"linecolor\":\"white\",\"ticks\":\"\"},\"caxis\":{\"gridcolor\":\"white\",\"linecolor\":\"white\",\"ticks\":\"\"}},\"coloraxis\":{\"colorbar\":{\"outlinewidth\":0,\"ticks\":\"\"}},\"colorscale\":{\"sequential\":[[0.0,\"#0d0887\"],[0.1111111111111111,\"#46039f\"],[0.2222222222222222,\"#7201a8\"],[0.3333333333333333,\"#9c179e\"],[0.4444444444444444,\"#bd3786\"],[0.5555555555555556,\"#d8576b\"],[0.6666666666666666,\"#ed7953\"],[0.7777777777777778,\"#fb9f3a\"],[0.8888888888888888,\"#fdca26\"],[1.0,\"#f0f921\"]],\"sequentialminus\":[[0.0,\"#0d0887\"],[0.1111111111111111,\"#46039f\"],[0.2222222222222222,\"#7201a8\"],[0.3333333333333333,\"#9c179e\"],[0.4444444444444444,\"#bd3786\"],[0.5555555555555556,\"#d8576b\"],[0.6666666666666666,\"#ed7953\"],[0.7777777777777778,\"#fb9f3a\"],[0.8888888888888888,\"#fdca26\"],[1.0,\"#f0f921\"]],\"diverging\":[[0,\"#8e0152\"],[0.1,\"#c51b7d\"],[0.2,\"#de77ae\"],[0.3,\"#f1b6da\"],[0.4,\"#fde0ef\"],[0.5,\"#f7f7f7\"],[0.6,\"#e6f5d0\"],[0.7,\"#b8e186\"],[0.8,\"#7fbc41\"],[0.9,\"#4d9221\"],[1,\"#276419\"]]},\"xaxis\":{\"gridcolor\":\"white\",\"linecolor\":\"white\",\"ticks\":\"\",\"title\":{\"standoff\":15},\"zerolinecolor\":\"white\",\"automargin\":true,\"zerolinewidth\":2},\"yaxis\":{\"gridcolor\":\"white\",\"linecolor\":\"white\",\"ticks\":\"\",\"title\":{\"standoff\":15},\"zerolinecolor\":\"white\",\"automargin\":true,\"zerolinewidth\":2},\"scene\":{\"xaxis\":{\"backgroundcolor\":\"#E5ECF6\",\"gridcolor\":\"white\",\"linecolor\":\"white\",\"showbackground\":true,\"ticks\":\"\",\"zerolinecolor\":\"white\",\"gridwidth\":2},\"yaxis\":{\"backgroundcolor\":\"#E5ECF6\",\"gridcolor\":\"white\",\"linecolor\":\"white\",\"showbackground\":true,\"ticks\":\"\",\"zerolinecolor\":\"white\",\"gridwidth\":2},\"zaxis\":{\"backgroundcolor\":\"#E5ECF6\",\"gridcolor\":\"white\",\"linecolor\":\"white\",\"showbackground\":true,\"ticks\":\"\",\"zerolinecolor\":\"white\",\"gridwidth\":2}},\"shapedefaults\":{\"line\":{\"color\":\"#2a3f5f\"}},\"annotationdefaults\":{\"arrowcolor\":\"#2a3f5f\",\"arrowhead\":0,\"arrowwidth\":1},\"geo\":{\"bgcolor\":\"white\",\"landcolor\":\"#E5ECF6\",\"subunitcolor\":\"white\",\"showland\":true,\"showlakes\":true,\"lakecolor\":\"white\"},\"title\":{\"x\":0.05},\"mapbox\":{\"style\":\"light\"}}},\"legend\":{\"tracegroupgap\":0},\"margin\":{\"t\":60}},                        {\"responsive\": true}                    ).then(function(){\n",
       "                            \n",
       "var gd = document.getElementById('4965386b-cb49-4cfb-be17-1923a2f0dd61');\n",
       "var x = new MutationObserver(function (mutations, observer) {{\n",
       "        var display = window.getComputedStyle(gd).display;\n",
       "        if (!display || display === 'none') {{\n",
       "            console.log([gd, 'removed!']);\n",
       "            Plotly.purge(gd);\n",
       "            observer.disconnect();\n",
       "        }}\n",
       "}});\n",
       "\n",
       "// Listen for the removal of the full notebook cells\n",
       "var notebookContainer = gd.closest('#notebook-container');\n",
       "if (notebookContainer) {{\n",
       "    x.observe(notebookContainer, {childList: true});\n",
       "}}\n",
       "\n",
       "// Listen for the clearing of the current output cell\n",
       "var outputEl = gd.closest('.output');\n",
       "if (outputEl) {{\n",
       "    x.observe(outputEl, {childList: true});\n",
       "}}\n",
       "\n",
       "                        })                };                });            </script>        </div>"
      ]
     },
     "metadata": {},
     "output_type": "display_data"
    }
   ],
   "source": [
    "import plotly.express as px\n",
    "\n",
    "fig = px.pie(values = dfpie['count_mem'],\n",
    "             names = dfpie['overall'])\n",
    "fig.show()"
   ]
  },
  {
   "cell_type": "code",
   "execution_count": 207,
   "id": "d8571301",
   "metadata": {},
   "outputs": [
    {
     "data": {
      "image/png": "[encoded data removed]",
      "text/plain": [
       "<Figure size 640x480 with 1 Axes>"
      ]
     },
     "metadata": {},
     "output_type": "display_data"
    }
   ],
   "source": [
    "import matplotlib.dates as mdates\n",
    "\n",
    "x=dfplt['month']\n",
    "ywrite=dfplt['w_avg']\n",
    "yread=dfplt['r_avg']\n",
    "ylisten=dfplt['l_avg']\n",
    "yspeak=dfplt['s_avg']\n",
    "\n",
    "plt.plot(x,ywrite,'-r',label='w_avg')\n",
    "plt.plot(x,yread,':k',label='r_avg')\n",
    "plt.plot(x,ylisten,'--b',label='l_avg')\n",
    "plt.plot(x,yspeak,'*g-',label='s_avg')\n",
    "\n",
    "plt.xlabel('Month')\n",
    "plt.ylabel('Score')\n",
    "plt.title('Score in month')\n",
    "plt.legend()\n",
    "plt.show()"
   ]
  }
 ],
 "metadata": {
  "kernelspec": {
   "display_name": "Python 3 (ipykernel)",
   "language": "python",
   "name": "python3"
  },
  "language_info": {
   "codemirror_mode": {
    "name": "ipython",
    "version": 3
   },
   "file_extension": ".py",
   "mimetype": "text/x-python",
   "name": "python",
   "nbconvert_exporter": "python",
   "pygments_lexer": "ipython3",
   "version": "3.11.4"
  }
 },
 "nbformat": 4,
 "nbformat_minor": 5
}
